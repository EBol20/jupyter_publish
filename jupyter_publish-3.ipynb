{
 "cells": [
  {
   "cell_type": "markdown",
   "metadata": {},
   "source": [
    "# JupyterLab git extension"
   ]
  },
  {
   "cell_type": "markdown",
   "metadata": {},
   "source": [
    "JupyterLab git extension is already installed in the Jupyter publish VM. If you want to install this extension to your local JupyterLab on your computer, follow installation instructions at [https://github.com/jupyterlab/jupyterlab-git](https://github.com/jupyterlab/jupyterlab-git).\n",
    "\n",
    "## Check availability of JupyterLab git extension\n",
    "\n",
    "A tab labeled “Git” (or with Git logo) as well as “Git panel” are available once JupyterLab git extension is properly installed, as shown on the figure below:\n",
    "\n",
    "\n",
    "![JupyterLab git](img/jupyterlab-git.png)\n",
    "\n",
    "\n",
    "\n",
    "\n",
    "## Git setup\n",
    "\n",
    "\n",
    "**If you are running on your local laptop (not on binder or a VM) and you never used git on it then you most likely need to setup git**.\n",
    "\n",
    "This section is taken from the [Software Carpentry Git lesson](http://swcarpentry.github.io/git-novice/02-setup/index.html). It has be shortened as we are using a Linux VM but feel free to go through the [entire Software Carpentry lesson](http://swcarpentry.github.io/git-novice) if you need to install and use git on your laptop.\n",
    "\n",
    "When we use Git on a new computer for the first time, we need to configure a few things. Below are a few examples of configurations we will set as we get started with Git:\n",
    "\n",
    "- our name and email address,\n",
    "- what our preferred text editor is,\n",
    "- and that we want to use these settings globally (i.e. for every project).\n",
    "\n",
    "Save and close your Jupyter notebook so you can start a terminal from the JupyterLab Launcher:\n",
    "\n",
    "![JupyterLab terminal](img/jupyterlab-terminal.png)\n",
    "\n",
    "\n",
    "### Tips\n",
    "\n",
    "Another way to open a Git Terminal is to use the “Git” Tab -> “Open Terminal”\n",
    "The copy/paste menu is “hidden” so to get it:\n",
    "- copy: select the text to copy with your mouse then SHIFT and right-click with your mouse so the copy menu will appear.\n",
    "- paste: SHIFT and right click to get the paste menu."
   ]
  },
  {
   "cell_type": "markdown",
   "metadata": {},
   "source": [
    "# Follow [Live editing of LaTeX documents](jupyter_publish-4.ipynb)"
   ]
  },
  {
   "cell_type": "code",
   "execution_count": null,
   "metadata": {},
   "outputs": [],
   "source": []
  }
 ],
 "metadata": {
  "kernelspec": {
   "display_name": "Python 3",
   "language": "python",
   "name": "python3"
  },
  "language_info": {
   "codemirror_mode": {
    "name": "ipython",
    "version": 3
   },
   "file_extension": ".py",
   "mimetype": "text/x-python",
   "name": "python",
   "nbconvert_exporter": "python",
   "pygments_lexer": "ipython3",
   "version": "3.6.7"
  }
 },
 "nbformat": 4,
 "nbformat_minor": 2
}
